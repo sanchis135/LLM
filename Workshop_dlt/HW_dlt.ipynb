{
 "cells": [
  {
   "cell_type": "markdown",
   "id": "b04d9a78",
   "metadata": {},
   "source": [
    "## Question 1. dlt Version\n",
    "\n",
    "Let's install dlt with Qdrant support and Qdrant client.\n",
    "\n",
    "```bash\n",
    "pip install -q \"dlt[qdrant]\" \"qdrant-client[fastembed]\"\n",
    "```\n",
    "\n",
    "What's the version of dlt that you installed?"
   ]
  },
  {
   "cell_type": "code",
   "execution_count": 1,
   "id": "692b20a8",
   "metadata": {},
   "outputs": [
    {
     "name": "stdout",
     "output_type": "stream",
     "text": [
      "1.13.0\n"
     ]
    }
   ],
   "source": [
    "import dlt\n",
    "print(dlt.__version__)"
   ]
  },
  {
   "cell_type": "markdown",
   "id": "3cf2e3bf",
   "metadata": {},
   "source": [
    "## Question 2. dlt pipeline\n",
    "\n",
    "Now let's create a pipeline.\n",
    "\n",
    "How many rows were inserted into the zoomcamp_data collection?"
   ]
  },
  {
   "cell_type": "code",
   "execution_count": 2,
   "id": "31e506e6",
   "metadata": {},
   "outputs": [],
   "source": [
    "import dlt\n",
    "import requests\n",
    "\n",
    "@dlt.resource\n",
    "def zoomcamp_data():\n",
    "    docs_url = 'https://github.com/alexeygrigorev/llm-rag-workshop/raw/main/notebooks/documents.json'\n",
    "    docs_response = requests.get(docs_url)\n",
    "    documents_raw = docs_response.json()\n",
    "\n",
    "    for course in documents_raw:\n",
    "        course_name = course['course']\n",
    "        for doc in course['documents']:\n",
    "            doc['course'] = course_name\n",
    "            yield doc"
   ]
  },
  {
   "cell_type": "code",
   "execution_count": 3,
   "id": "c1201f28",
   "metadata": {},
   "outputs": [
    {
     "name": "stderr",
     "output_type": "stream",
     "text": [
      "e:\\LLM\\.venv\\Lib\\site-packages\\tqdm\\auto.py:21: TqdmWarning: IProgress not found. Please update jupyter and ipywidgets. See https://ipywidgets.readthedocs.io/en/stable/user_install.html\n",
      "  from .autonotebook import tqdm as notebook_tqdm\n",
      "Fetching 5 files:  20%|██        | 1/5 [00:00<00:01,  2.94it/s]e:\\LLM\\.venv\\Lib\\site-packages\\huggingface_hub\\file_download.py:143: UserWarning: `huggingface_hub` cache-system uses symlinks by default to efficiently store duplicated files but your machine does not support them in C:\\Users\\sanch\\AppData\\Local\\Temp\\fastembed_cache\\models--Qdrant--bge-small-en. Caching files will still work but in a degraded version that might require more space on your disk. This warning can be disabled by setting the `HF_HUB_DISABLE_SYMLINKS_WARNING` environment variable. For more details, see https://huggingface.co/docs/huggingface_hub/how-to-cache#limitations.\n",
      "To support symlinks on Windows, you either need to activate Developer Mode or to run Python as an administrator. In order to activate developer mode, see this article: https://docs.microsoft.com/en-us/windows/apps/get-started/enable-your-device-for-development\n",
      "  warnings.warn(message)\n",
      "Fetching 5 files: 100%|██████████| 5/5 [00:06<00:00,  1.39s/it]\n"
     ]
    },
    {
     "name": "stdout",
     "output_type": "stream",
     "text": [
      "Run started at 2025-07-11 13:28:41.229847+00:00 and COMPLETED in 2 minutes and 53.65 seconds with 4 steps.\n",
      "Step extract COMPLETED in 0.88 seconds.\n",
      "\n",
      "Load package 1752240534.0695724 is EXTRACTED and NOT YET LOADED to the destination and contains no failed jobs\n",
      "\n",
      "Step normalize COMPLETED in 0.14 seconds.\n",
      "Normalized data for the following tables:\n",
      "- zoomcamp_data: 948 row(s)\n",
      "- _dlt_pipeline_state: 1 row(s)\n",
      "\n",
      "Load package 1752240534.0695724 is NORMALIZED and NOT YET LOADED to the destination and contains no failed jobs\n",
      "\n",
      "Step load COMPLETED in 2 minutes and 39.80 seconds.\n",
      "Pipeline zoomcamp_pipeline load step completed in 2 minutes and 39.76 seconds\n",
      "1 load package(s) were loaded to destination qdrant and into dataset zoomcamp_tagged_data\n",
      "The qdrant destination used e:\\LLM\\Workshop_dlt\\db.qdrant location to store data\n",
      "Load package 1752240534.0695724 is LOADED and contains no failed jobs\n",
      "\n",
      "Step run COMPLETED in 2 minutes and 53.64 seconds.\n",
      "Pipeline zoomcamp_pipeline load step completed in 2 minutes and 39.76 seconds\n",
      "1 load package(s) were loaded to destination qdrant and into dataset zoomcamp_tagged_data\n",
      "The qdrant destination used e:\\LLM\\Workshop_dlt\\db.qdrant location to store data\n",
      "Load package 1752240534.0695724 is LOADED and contains no failed jobs\n"
     ]
    }
   ],
   "source": [
    "from dlt.destinations import qdrant\n",
    "\n",
    "qdrant_destination = qdrant(qd_path=\"db.qdrant\")\n",
    "\n",
    "pipeline = dlt.pipeline(\n",
    "    pipeline_name=\"zoomcamp_pipeline\",\n",
    "    destination=qdrant_destination,\n",
    "    dataset_name=\"zoomcamp_tagged_data\"\n",
    ")\n",
    "\n",
    "load_info = pipeline.run(zoomcamp_data())\n",
    "print(pipeline.last_trace)"
   ]
  },
  {
   "cell_type": "markdown",
   "id": "d884c418",
   "metadata": {},
   "source": [
    "## Question 3. Embeddings\n",
    "\n",
    "When inserting the data, an embedding model was used. Which one?"
   ]
  },
  {
   "cell_type": "code",
   "execution_count": 4,
   "id": "12c8c6de",
   "metadata": {},
   "outputs": [
    {
     "name": "stdout",
     "output_type": "stream",
     "text": [
      "{'collections': {'zoomcamp_tagged_data': {'vectors': {'fast-bge-small-en': {'size': 384, 'distance': 'Cosine', 'hnsw_config': None, 'quantization_config': None, 'on_disk': None, 'datatype': None, 'multivector_config': None}}, 'shard_number': None, 'sharding_method': None, 'replication_factor': None, 'write_consistency_factor': None, 'on_disk_payload': None, 'hnsw_config': None, 'wal_config': None, 'optimizers_config': None, 'init_from': None, 'quantization_config': None, 'sparse_vectors': None, 'strict_mode_config': None}, 'zoomcamp_tagged_data__dlt_version': {'vectors': {'fast-bge-small-en': {'size': 384, 'distance': 'Cosine', 'hnsw_config': None, 'quantization_config': None, 'on_disk': None, 'datatype': None, 'multivector_config': None}}, 'shard_number': None, 'sharding_method': None, 'replication_factor': None, 'write_consistency_factor': None, 'on_disk_payload': None, 'hnsw_config': None, 'wal_config': None, 'optimizers_config': None, 'init_from': None, 'quantization_config': None, 'sparse_vectors': None, 'strict_mode_config': None}, 'zoomcamp_tagged_data__dlt_pipeline_state': {'vectors': {'fast-bge-small-en': {'size': 384, 'distance': 'Cosine', 'hnsw_config': None, 'quantization_config': None, 'on_disk': None, 'datatype': None, 'multivector_config': None}}, 'shard_number': None, 'sharding_method': None, 'replication_factor': None, 'write_consistency_factor': None, 'on_disk_payload': None, 'hnsw_config': None, 'wal_config': None, 'optimizers_config': None, 'init_from': None, 'quantization_config': None, 'sparse_vectors': None, 'strict_mode_config': None}, 'zoomcamp_tagged_data_zoomcamp_data': {'vectors': {'fast-bge-small-en': {'size': 384, 'distance': 'Cosine', 'hnsw_config': None, 'quantization_config': None, 'on_disk': None, 'datatype': None, 'multivector_config': None}}, 'shard_number': None, 'sharding_method': None, 'replication_factor': None, 'write_consistency_factor': None, 'on_disk_payload': None, 'hnsw_config': None, 'wal_config': None, 'optimizers_config': None, 'init_from': None, 'quantization_config': None, 'sparse_vectors': None, 'strict_mode_config': None}, 'zoomcamp_tagged_data__dlt_loads': {'vectors': {'fast-bge-small-en': {'size': 384, 'distance': 'Cosine', 'hnsw_config': None, 'quantization_config': None, 'on_disk': None, 'datatype': None, 'multivector_config': None}}, 'shard_number': None, 'sharding_method': None, 'replication_factor': None, 'write_consistency_factor': None, 'on_disk_payload': None, 'hnsw_config': None, 'wal_config': None, 'optimizers_config': None, 'init_from': None, 'quantization_config': None, 'sparse_vectors': None, 'strict_mode_config': None}}, 'aliases': {}}\n"
     ]
    }
   ],
   "source": [
    "import json\n",
    "\n",
    "with open(\"db.qdrant/meta.json\", \"r\") as f:\n",
    "    meta = json.load(f)\n",
    "\n",
    "print(meta)"
   ]
  }
 ],
 "metadata": {
  "kernelspec": {
   "display_name": ".venv",
   "language": "python",
   "name": "python3"
  },
  "language_info": {
   "codemirror_mode": {
    "name": "ipython",
    "version": 3
   },
   "file_extension": ".py",
   "mimetype": "text/x-python",
   "name": "python",
   "nbconvert_exporter": "python",
   "pygments_lexer": "ipython3",
   "version": "3.13.5"
  }
 },
 "nbformat": 4,
 "nbformat_minor": 5
}
